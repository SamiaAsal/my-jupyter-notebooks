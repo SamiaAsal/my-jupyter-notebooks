{
 "cells": [
  {
   "cell_type": "markdown",
   "id": "e710d754-aec7-48a7-ac82-136e8d7b2d55",
   "metadata": {},
   "source": [
    "# Data Science Tools and Ecosystem"
   ]
  },
  {
   "cell_type": "markdown",
   "id": "211b4914-09c2-498f-8b44-d85382d1f2b0",
   "metadata": {},
   "source": [
    "### In this notebook, Data Science Tools and Ecosystem are summarized.\n"
   ]
  },
  {
   "cell_type": "markdown",
   "id": "893a2520-0b44-4106-9a9c-ed93ebd26a02",
   "metadata": {},
   "source": [
    "_Objectives:_\n",
    "* popular languages that Data Scientists\n",
    "* libraries used by Data Scientists\n",
    "* Data Science Tools\t\n"
   ]
  },
  {
   "cell_type": "markdown",
   "id": "c3ff9b04-4ac6-431e-9761-b835c0acbc6f",
   "metadata": {},
   "source": [
    " Some of the popular languages that Data Scientists use are:\n",
    "1. python\n",
    "2. R\n",
    "3. c++"
   ]
  },
  {
   "cell_type": "markdown",
   "id": "ccb9a770-3ffa-4c2c-82c6-6016824f43c4",
   "metadata": {},
   "source": [
    " Some of the commonly used libraries used by Data Scientists include:\n",
    "1. pandas\n",
    "2. Seaborn\n",
    "3. Matplotlib\n",
    "4. Scikit-learn\n"
   ]
  },
  {
   "cell_type": "markdown",
   "id": "cc6efb96-1769-4ffe-9b6f-f509a998bbf5",
   "metadata": {},
   "source": [
    "| Data Science Tools | |\n",
    "|---|---|\n",
    "| Jupyter Notebook ||\n",
    "| Vs Code ||\n",
    "| spyder ||"
   ]
  },
  {
   "cell_type": "markdown",
   "id": "e2a414d7-13c2-45b8-a286-2415f643d751",
   "metadata": {},
   "source": [
    "### Below are a few examples of evaluating arithmetic expressions in Python"
   ]
  },
  {
   "cell_type": "code",
   "execution_count": 20,
   "id": "ce72faf8-f237-4051-a206-5e15ab7501a4",
   "metadata": {},
   "outputs": [
    {
     "data": {
      "text/plain": [
       "17"
      ]
     },
     "execution_count": 20,
     "metadata": {},
     "output_type": "execute_result"
    }
   ],
   "source": [
    "#This a simple arithmetic expression to mutiply then add integers\n",
    "(3*4)+5"
   ]
  },
  {
   "cell_type": "code",
   "execution_count": 30,
   "id": "bfc5e338-b297-425b-974a-dc4c10c108c3",
   "metadata": {},
   "outputs": [
    {
     "data": {
      "text/plain": [
       "3"
      ]
     },
     "execution_count": 30,
     "metadata": {},
     "output_type": "execute_result"
    }
   ],
   "source": [
    "#This will convert 200 minutes to hours by diving by 60\n",
    "int(200/60)"
   ]
  },
  {
   "cell_type": "markdown",
   "id": "407e2c96-bc01-4a7c-9055-27ad612b7e22",
   "metadata": {},
   "source": [
    "## Author\n",
    "samia"
   ]
  },
  {
   "cell_type": "code",
   "execution_count": null,
   "id": "aec074bc-3938-4ce5-bf5e-44977d01e208",
   "metadata": {},
   "outputs": [],
   "source": []
  }
 ],
 "metadata": {
  "kernelspec": {
   "display_name": "Python 3 (ipykernel)",
   "language": "python",
   "name": "python3"
  },
  "language_info": {
   "codemirror_mode": {
    "name": "ipython",
    "version": 3
   },
   "file_extension": ".py",
   "mimetype": "text/x-python",
   "name": "python",
   "nbconvert_exporter": "python",
   "pygments_lexer": "ipython3",
   "version": "3.11.7"
  }
 },
 "nbformat": 4,
 "nbformat_minor": 5
}
